{
 "cells": [
  {
   "cell_type": "code",
   "execution_count": null,
   "metadata": {
    "ExecuteTime": {
     "end_time": "2025-06-11T12:43:05.475383500Z",
     "start_time": "2025-06-11T12:43:05.089110600Z"
    },
    "collapsed": true
   },
   "outputs": [
    {
     "name": "stdout",
     "output_type": "stream",
     "text": [
      "['Amount', 'Price', 'Area', 'Bathroom', 'Balcony', 'Car_Parking', 'Remaining_Floor', 'Garden/Park', 'Pool', 'Main Road', 'BHK', 'Location_Other', 'Location_ahmedabad', 'Location_bangalore', 'Location_chennai', 'Location_faridabad', 'Location_greater-noida', 'Location_gurgaon', 'Location_hyderabad', 'Location_jaipur', 'Location_kolkata', 'Location_new-delhi', 'Location_pune', 'Location_surat', 'Location_thane', 'Location_vadodara', 'Transaction_New Property', 'Transaction_Other', 'Transaction_Resale', 'Furnishing_Furnished', 'Furnishing_Semi-Furnished', 'Furnishing_Unfurnished', 'Facing_East', 'Facing_North', 'Facing_North - East', 'Facing_North - West', 'Facing_South', 'Facing_South - East', 'Facing_South - West', 'Facing_Unknown', 'Facing_West']\n",
      "Scaled RMSE: 0.4901\n",
      "Scaled MAE:  0.3011\n",
      "Scaled R²:   0.7586\n"
     ]
    }
   ],
   "source": [
    "import pandas as pd\n",
    "import numpy as np\n",
    "from sklearn.preprocessing import StandardScaler\n",
    "from sklearn.model_selection import train_test_split\n",
    "from sklearn.metrics import mean_squared_error, mean_absolute_error, r2_score\n",
    "\n",
    "# Load dataset with only necessary columns\n",
    "cols = ['Amount', 'Price', 'Area'] + \\\n",
    "       [c for c in pd.read_csv('cleaned_dataset.csv', nrows=0).columns\n",
    "        if c not in ['Amount', 'Price', 'Area']]\n",
    "print(cols)\n",
    "df = pd.read_csv('cleaned_dataset.csv', usecols=cols)\n",
    "\n",
    "# Define numeric features and target\n",
    "num_features = ['Price', 'Area']\n",
    "target = 'Amount'\n",
    "\n",
    "# Split into train and test\n",
    "train_df, test_df = train_test_split(df, test_size=0.2, random_state=42)\n",
    "\n",
    "# Scale numeric features\n",
    "scaler_X = StandardScaler()\n",
    "train_df[num_features] = scaler_X.fit_transform(train_df[num_features])\n",
    "test_df[num_features] = scaler_X.transform(test_df[num_features])\n",
    "\n",
    "# Scale target\n",
    "scaler_y = StandardScaler()\n",
    "train_df[target] = scaler_y.fit_transform(train_df[[target]])\n",
    "test_df[target] = scaler_y.transform(test_df[[target]])\n",
    "\n",
    "# Prepare arrays\n",
    "y_train = train_df[target].values\n",
    "y_test_scaled = test_df[target].values\n",
    "X_train = train_df.drop(columns=[target]).values\n",
    "X_test = test_df.drop(columns=[target]).values\n",
    "\n",
    "# Add intercept term\n",
    "X_train_const = np.hstack([np.ones((X_train.shape[0], 1)), X_train])\n",
    "X_test_const = np.hstack([np.ones((X_test.shape[0], 1)), X_test])\n",
    "\n",
    "# Closed-form MLE: β̂ = (XᵀX)⁻¹ Xᵀy in scaled space\n",
    "beta_hat = np.linalg.solve(\n",
    "    X_train_const.T.dot(X_train_const),\n",
    "    X_train_const.T.dot(y_train)\n",
    ")\n",
    "\n",
    "# Predict (scaled)\n",
    "y_pred_scaled = X_test_const.dot(beta_hat)\n",
    "\n",
    "# Compute metrics on scaled data\n",
    "rmse_scaled = np.sqrt(mean_squared_error(y_test_scaled, y_pred_scaled))\n",
    "mae_scaled = mean_absolute_error(y_test_scaled, y_pred_scaled)\n",
    "r2_scaled = r2_score(y_test_scaled, y_pred_scaled)\n",
    "\n",
    "print(f\"RMSE: {rmse_scaled:.4f}\")\n",
    "print(f\"MAE:  {mae_scaled:.4f}\")\n",
    "print(f\"R²:   {r2_scaled:.4f}\")"
   ]
  }
 ],
 "metadata": {
  "kernelspec": {
   "display_name": "Python 3",
   "language": "python",
   "name": "python3"
  },
  "language_info": {
   "codemirror_mode": {
    "name": "ipython",
    "version": 2
   },
   "file_extension": ".py",
   "mimetype": "text/x-python",
   "name": "python",
   "nbconvert_exporter": "python",
   "pygments_lexer": "ipython2",
   "version": "2.7.6"
  }
 },
 "nbformat": 4,
 "nbformat_minor": 0
}
