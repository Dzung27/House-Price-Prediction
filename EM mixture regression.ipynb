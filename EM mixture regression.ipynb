{
 "cells": [
  {
   "cell_type": "code",
   "execution_count": 1,
   "id": "42ffd0a4-7b43-470f-9ac0-e42ff6b4af5a",
   "metadata": {},
   "outputs": [],
   "source": [
    "import pandas as pd\n",
    "import numpy as np\n",
    "from sklearn.mixture import GaussianMixture\n",
    "from sklearn.preprocessing import StandardScaler\n",
    "from sklearn.metrics import mean_squared_error, mean_absolute_error, r2_score\n",
    "import matplotlib.pyplot as plt"
   ]
  },
  {
   "cell_type": "code",
   "execution_count": 2,
   "id": "c9f497fa-6146-4c71-921a-717231906e56",
   "metadata": {},
   "outputs": [
    {
     "name": "stdout",
     "output_type": "stream",
     "text": [
      "Index(['Bathroom', 'Balcony', 'Car_Parking', 'Amount', 'Price', 'Area',\n",
      "       'Remaining_Floor', 'Garden/Park', 'Pool', 'Main Road', 'BHK',\n",
      "       'Location_Other', 'Location_ahmedabad', 'Location_bangalore',\n",
      "       'Location_chennai', 'Location_faridabad', 'Location_greater-noida',\n",
      "       'Location_gurgaon', 'Location_hyderabad', 'Location_jaipur',\n",
      "       'Location_kolkata', 'Location_new-delhi', 'Location_pune',\n",
      "       'Location_surat', 'Location_thane', 'Location_vadodara',\n",
      "       'Transaction_New Property', 'Transaction_Other', 'Transaction_Resale',\n",
      "       'Furnishing_Furnished', 'Furnishing_Semi-Furnished',\n",
      "       'Furnishing_Unfurnished', 'Facing_East', 'Facing_North',\n",
      "       'Facing_North - East', 'Facing_North - West', 'Facing_South',\n",
      "       'Facing_South - East', 'Facing_South - West', 'Facing_Unknown',\n",
      "       'Facing_West'],\n",
      "      dtype='object')\n"
     ]
    }
   ],
   "source": [
    "df = pd.read_csv(\"cleaned_dataset.csv\")\n",
    "continuous_cols = ['Amount', 'Area', 'Price']\n",
    "df[continuous_cols] = StandardScaler().fit_transform(df[continuous_cols])\n",
    "\n",
    "X_cont = df[continuous_cols].values\n",
    "X = df.drop('Price', axis=1).values \n",
    "y = df['Price'].values \n",
    "print(df.columns)"
   ]
  },
  {
   "cell_type": "code",
   "execution_count": 3,
   "id": "44b6daec-f5c2-455b-a304-09016c59e92b",
   "metadata": {},
   "outputs": [],
   "source": [
    "#train-test split\n",
    "n = X.shape[0]\n",
    "indices = np.random.permutation(n)\n",
    "train_size = int(0.8 * n)\n",
    "train_idx, test_idx = indices[:train_size], indices[train_size:]\n",
    "\n",
    "X_train_cont, X_test_cont = X_cont[train_idx], X_cont[test_idx]\n",
    "X_train, X_test = X[train_idx], X[test_idx]\n",
    "y_train, y_test = y[train_idx], y[test_idx]"
   ]
  },
  {
   "cell_type": "code",
   "execution_count": 4,
   "id": "a11517aa-b666-485c-9945-5d860bf509d5",
   "metadata": {},
   "outputs": [],
   "source": [
    "# E-step: Fit Gaussian Mixture, tính responsibility cho từng điểm\n",
    "n_components = 5\n",
    "gmm = GaussianMixture(n_components=n_components, random_state=42)\n",
    "gmm.fit(X_train_cont)\n",
    "respons_train = gmm.predict_proba(X_train_cont)   \n",
    "respons_test = gmm.predict_proba(X_test_cont)     \n",
    "\n",
    "# M-step: Weighted OLS cho từng cluster\n",
    "from sklearn.linear_model import LinearRegression\n",
    "def fit_weighted_linear(X, y, w):\n",
    "    reg = LinearRegression()\n",
    "    reg.fit(X, y, sample_weight=w)\n",
    "    beta = np.concatenate(([reg.intercept_], reg.coef_))\n",
    "    return beta\n",
    "\n",
    "# Với mỗi cluster k, fit một hồi quy tuyến tính sử dụng responsibility làm trọng số\n",
    "betas = [fit_weighted_linear(X_train, y_train, respons_train[:, k]) for k in range(n_components)]\n",
    "betas = np.stack(betas)  "
   ]
  },
  {
   "cell_type": "code",
   "execution_count": 5,
   "id": "469d95dd-f1ec-40d2-a6e2-7cc3915083fc",
   "metadata": {},
   "outputs": [
    {
     "name": "stdout",
     "output_type": "stream",
     "text": [
      "Test RMSE: 0.3068 | MAE: 0.1753 | R²: 0.9059\n"
     ]
    }
   ],
   "source": [
    "def predict_mixture(X, respons, betas):\n",
    "    Xb = np.hstack([np.ones((X.shape[0], 1)), X])\n",
    "    all_preds = Xb @ betas.T\n",
    "    return np.sum(respons * all_preds, axis=1)\n",
    "\n",
    "def evaluate_regression(y_true, y_pred, name=''):\n",
    "    from sklearn.metrics import mean_squared_error, mean_absolute_error, r2_score\n",
    "    rmse = np.sqrt(mean_squared_error(y_true, y_pred))\n",
    "    mae = mean_absolute_error(y_true, y_pred)\n",
    "    r2 = r2_score(y_true, y_pred)\n",
    "    print(f\"{name} RMSE: {rmse:.4f} | MAE: {mae:.4f} | R²: {r2:.4f}\")\n",
    "\n",
    "y_pred_train = predict_mixture(X_train, respons_train, betas)\n",
    "y_pred_test  = predict_mixture(X_test, respons_test, betas)\n",
    "\n",
    "#evaluate_regression(y_train, y_pred_train, 'Train')\n",
    "evaluate_regression(y_test, y_pred_test, 'Test')\n",
    "\n"
   ]
  },
  {
   "cell_type": "code",
   "execution_count": null,
   "id": "11560320-ec92-4815-bb34-a2d011e6fe38",
   "metadata": {},
   "outputs": [],
   "source": []
  }
 ],
 "metadata": {
  "kernelspec": {
   "display_name": "Python 3 (ipykernel)",
   "language": "python",
   "name": "python3"
  },
  "language_info": {
   "codemirror_mode": {
    "name": "ipython",
    "version": 3
   },
   "file_extension": ".py",
   "mimetype": "text/x-python",
   "name": "python",
   "nbconvert_exporter": "python",
   "pygments_lexer": "ipython3",
   "version": "3.11.7"
  },
  "widgets": {
   "application/vnd.jupyter.widget-state+json": {
    "state": {},
    "version_major": 2,
    "version_minor": 0
   }
  }
 },
 "nbformat": 4,
 "nbformat_minor": 5
}
